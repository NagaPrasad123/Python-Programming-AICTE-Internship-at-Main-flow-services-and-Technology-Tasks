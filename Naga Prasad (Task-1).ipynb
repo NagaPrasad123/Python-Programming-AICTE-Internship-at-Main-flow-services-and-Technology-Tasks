{
 "cells": [
  {
   "cell_type": "code",
   "execution_count": null,
   "metadata": {},
   "outputs": [],
   "source": [
    "#Python Programming Internship at Mainflow Task-1 by Naga Prasad S"
   ]
  },
  {
   "cell_type": "code",
   "execution_count": 2,
   "metadata": {},
   "outputs": [
    {
     "name": "stdout",
     "output_type": "stream",
     "text": [
      "Updated list: [11, 2, 3, 'hello', 5, 6]\n"
     ]
    }
   ],
   "source": [
    "#Creating a list\n",
    "my_list = [1,2,3,4,5]\n",
    "\n",
    "#Adding an element to the list\n",
    "my_list.append(6)\n",
    "\n",
    "#Removing an element from the list\n",
    "my_list.remove(4)\n",
    "\n",
    "#Modifying an element in the list\n",
    "my_list[0] = 11\n",
    "\n",
    "#Inserting an element in our list\n",
    "my_list.insert(3, \"hello\")\n",
    "\n",
    "print (\"Updated list:\", my_list)"
   ]
  },
  {
   "cell_type": "code",
   "execution_count": 3,
   "metadata": {},
   "outputs": [
    {
     "name": "stdout",
     "output_type": "stream",
     "text": [
      "Updated Dictionary: {'Name': 'Naga', 'City': 'Chennai', 'Gender': 'Male'}\n"
     ]
    }
   ],
   "source": [
    "#Creating a dictionary\n",
    "my_dict = {'Name':'Naga','Age':'18','City':'Coimbatore'}\n",
    "\n",
    "#Adding a key Value pair to the dictionary\n",
    "my_dict['Gender'] = 'Male'\n",
    "\n",
    "#Removing a key Value pair to the dictionary\n",
    "del my_dict['Age']\n",
    "\n",
    "#Modifying a value in the Dictionary\n",
    "my_dict['City'] = 'Chennai'\n",
    "\n",
    "print (\"Updated Dictionary:\",my_dict)"
   ]
  },
  {
   "cell_type": "code",
   "execution_count": 5,
   "metadata": {},
   "outputs": [
    {
     "name": "stdout",
     "output_type": "stream",
     "text": [
      "Updated Tuple: (1, 2, 6)\n"
     ]
    }
   ],
   "source": [
    "#Original tuple\n",
    "original_tuple = (1,2,3)\n",
    "\n",
    "#Adding a New element to the tuple\n",
    "new_element = 5\n",
    "updated_tuple = original_tuple + (new_element,)\n",
    "\n",
    "#Removing an element from the tuple\n",
    "updated_tuple = original_tuple[:1] + original_tuple[2:]\n",
    "\n",
    "#Modifying an Element in the tuple\n",
    "modified_element = 6\n",
    "updated_tuple = original_tuple[:2] + (modified_element,) + original_tuple[3:]\n",
    "\n",
    "print (\"Updated Tuple:\",updated_tuple)"
   ]
  }
 ],
 "metadata": {
  "kernelspec": {
   "display_name": "base",
   "language": "python",
   "name": "python3"
  },
  "language_info": {
   "codemirror_mode": {
    "name": "ipython",
    "version": 3
   },
   "file_extension": ".py",
   "mimetype": "text/x-python",
   "name": "python",
   "nbconvert_exporter": "python",
   "pygments_lexer": "ipython3",
   "version": "3.11.5"
  }
 },
 "nbformat": 4,
 "nbformat_minor": 2
}
